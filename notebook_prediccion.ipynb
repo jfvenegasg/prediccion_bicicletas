{
 "cells": [
  {
   "cell_type": "code",
   "execution_count": 16,
   "id": "5f8e1742",
   "metadata": {},
   "outputs": [
    {
     "data": {
      "application/vnd.plotly.v1+json": {
       "config": {
        "plotlyServerURL": "https://plot.ly"
       },
       "data": [
        {
         "name": "inventario_est1",
         "type": "scatter",
         "x": [
          "2022-08-01T08:00:00",
          "2022-08-01T14:00:00",
          "2022-08-01T20:00:00",
          "2022-08-02T08:00:00",
          "2022-08-02T14:00:00",
          "2022-08-02T20:00:00",
          "2022-08-03T08:00:00",
          "2022-08-03T14:00:00",
          "2022-08-03T20:00:00",
          "2022-08-04T08:00:00",
          "2022-08-04T14:00:00",
          "2022-08-04T20:00:00",
          "2022-08-05T08:00:00",
          "2022-08-05T14:00:00",
          "2022-08-05T20:00:00",
          "2022-08-08T08:00:00",
          "2022-08-08T14:00:00",
          "2022-08-08T20:00:00",
          "2022-08-09T08:00:00",
          "2022-08-09T14:00:00",
          "2022-08-09T20:00:00",
          "2022-08-10T08:00:00",
          "2022-08-10T14:00:00",
          "2022-08-10T20:00:00",
          "2022-08-11T08:00:00",
          "2022-08-11T14:00:00",
          "2022-08-11T20:00:00",
          "2022-08-12T08:00:00",
          "2022-08-12T14:00:00",
          "2022-08-12T20:00:00",
          "2022-08-15T08:00:00",
          "2022-08-15T14:00:00",
          "2022-08-15T20:00:00",
          "2022-08-16T08:00:00",
          "2022-08-16T14:00:00",
          "2022-08-16T20:00:00",
          "2022-08-17T08:00:00",
          "2022-08-17T14:00:00",
          "2022-08-17T20:00:00",
          "2022-08-18T08:00:00",
          "2022-08-18T14:00:00",
          "2022-08-18T20:00:00",
          "2022-08-19T08:00:00",
          "2022-08-19T14:00:00",
          "2022-08-19T20:00:00",
          "2022-08-22T08:00:00",
          "2022-08-22T14:00:00",
          "2022-08-22T20:00:00",
          "2022-08-23T08:00:00",
          "2022-08-23T14:00:00",
          "2022-08-23T20:00:00",
          "2022-08-24T08:00:00",
          "2022-08-24T14:00:00",
          "2022-08-24T20:00:00",
          "2022-08-25T08:00:00",
          "2022-08-25T14:00:00",
          "2022-08-25T20:00:00",
          "2022-08-26T08:00:00",
          "2022-08-26T14:00:00",
          "2022-08-26T20:00:00"
         ],
         "xaxis": "x",
         "y": [
          14,
          14,
          9,
          7,
          12,
          12,
          11,
          16,
          14,
          11,
          6,
          8,
          6,
          6,
          14,
          11,
          8,
          13,
          3,
          6,
          16,
          6,
          7,
          15,
          8,
          8,
          13,
          9,
          10,
          8,
          3,
          5,
          11,
          6,
          2,
          7,
          6,
          8,
          3,
          5,
          10,
          3,
          3,
          6,
          6,
          14,
          12,
          0,
          1,
          9,
          4,
          1,
          0,
          5,
          5,
          4,
          5,
          5,
          5,
          5
         ],
         "yaxis": "y"
        },
        {
         "name": "inventario_est2",
         "type": "scatter",
         "x": [
          "2022-08-01T08:00:00",
          "2022-08-01T14:00:00",
          "2022-08-01T20:00:00",
          "2022-08-02T08:00:00",
          "2022-08-02T14:00:00",
          "2022-08-02T20:00:00",
          "2022-08-03T08:00:00",
          "2022-08-03T14:00:00",
          "2022-08-03T20:00:00",
          "2022-08-04T08:00:00",
          "2022-08-04T14:00:00",
          "2022-08-04T20:00:00",
          "2022-08-05T08:00:00",
          "2022-08-05T14:00:00",
          "2022-08-05T20:00:00",
          "2022-08-08T08:00:00",
          "2022-08-08T14:00:00",
          "2022-08-08T20:00:00",
          "2022-08-09T08:00:00",
          "2022-08-09T14:00:00",
          "2022-08-09T20:00:00",
          "2022-08-10T08:00:00",
          "2022-08-10T14:00:00",
          "2022-08-10T20:00:00",
          "2022-08-11T08:00:00",
          "2022-08-11T14:00:00",
          "2022-08-11T20:00:00",
          "2022-08-12T08:00:00",
          "2022-08-12T14:00:00",
          "2022-08-12T20:00:00",
          "2022-08-15T08:00:00",
          "2022-08-15T14:00:00",
          "2022-08-15T20:00:00",
          "2022-08-16T08:00:00",
          "2022-08-16T14:00:00",
          "2022-08-16T20:00:00",
          "2022-08-17T08:00:00",
          "2022-08-17T14:00:00",
          "2022-08-17T20:00:00",
          "2022-08-18T08:00:00",
          "2022-08-18T14:00:00",
          "2022-08-18T20:00:00",
          "2022-08-19T08:00:00",
          "2022-08-19T14:00:00",
          "2022-08-19T20:00:00",
          "2022-08-22T08:00:00",
          "2022-08-22T14:00:00",
          "2022-08-22T20:00:00",
          "2022-08-23T08:00:00",
          "2022-08-23T14:00:00",
          "2022-08-23T20:00:00",
          "2022-08-24T08:00:00",
          "2022-08-24T14:00:00",
          "2022-08-24T20:00:00",
          "2022-08-25T08:00:00",
          "2022-08-25T14:00:00",
          "2022-08-25T20:00:00",
          "2022-08-26T08:00:00",
          "2022-08-26T14:00:00",
          "2022-08-26T20:00:00"
         ],
         "xaxis": "x2",
         "y": [
          8,
          11,
          7,
          9,
          3,
          11,
          8,
          4,
          6,
          5,
          4,
          9,
          4,
          10,
          4,
          9,
          5,
          6,
          11,
          10,
          2,
          2,
          7,
          6,
          7,
          8,
          7,
          4,
          8,
          5,
          3,
          5,
          3,
          4,
          7,
          7,
          5,
          6,
          3,
          11,
          10,
          10,
          6,
          10,
          8,
          4,
          11,
          11,
          6,
          7,
          7,
          4,
          8,
          6,
          8,
          10,
          4,
          4,
          9,
          2
         ],
         "yaxis": "y2"
        },
        {
         "name": "inventario_est3",
         "type": "scatter",
         "x": [
          "2022-08-01T08:00:00",
          "2022-08-01T14:00:00",
          "2022-08-01T20:00:00",
          "2022-08-02T08:00:00",
          "2022-08-02T14:00:00",
          "2022-08-02T20:00:00",
          "2022-08-03T08:00:00",
          "2022-08-03T14:00:00",
          "2022-08-03T20:00:00",
          "2022-08-04T08:00:00",
          "2022-08-04T14:00:00",
          "2022-08-04T20:00:00",
          "2022-08-05T08:00:00",
          "2022-08-05T14:00:00",
          "2022-08-05T20:00:00",
          "2022-08-08T08:00:00",
          "2022-08-08T14:00:00",
          "2022-08-08T20:00:00",
          "2022-08-09T08:00:00",
          "2022-08-09T14:00:00",
          "2022-08-09T20:00:00",
          "2022-08-10T08:00:00",
          "2022-08-10T14:00:00",
          "2022-08-10T20:00:00",
          "2022-08-11T08:00:00",
          "2022-08-11T14:00:00",
          "2022-08-11T20:00:00",
          "2022-08-12T08:00:00",
          "2022-08-12T14:00:00",
          "2022-08-12T20:00:00",
          "2022-08-15T08:00:00",
          "2022-08-15T14:00:00",
          "2022-08-15T20:00:00",
          "2022-08-16T08:00:00",
          "2022-08-16T14:00:00",
          "2022-08-16T20:00:00",
          "2022-08-17T08:00:00",
          "2022-08-17T14:00:00",
          "2022-08-17T20:00:00",
          "2022-08-18T08:00:00",
          "2022-08-18T14:00:00",
          "2022-08-18T20:00:00",
          "2022-08-19T08:00:00",
          "2022-08-19T14:00:00",
          "2022-08-19T20:00:00",
          "2022-08-22T08:00:00",
          "2022-08-22T14:00:00",
          "2022-08-22T20:00:00",
          "2022-08-23T08:00:00",
          "2022-08-23T14:00:00",
          "2022-08-23T20:00:00",
          "2022-08-24T08:00:00",
          "2022-08-24T14:00:00",
          "2022-08-24T20:00:00",
          "2022-08-25T08:00:00",
          "2022-08-25T14:00:00",
          "2022-08-25T20:00:00",
          "2022-08-26T08:00:00",
          "2022-08-26T14:00:00",
          "2022-08-26T20:00:00"
         ],
         "xaxis": "x3",
         "y": [
          5,
          1,
          9,
          9,
          0,
          9,
          9,
          1,
          11,
          10,
          0,
          12,
          7,
          0,
          6,
          5,
          2,
          4,
          6,
          2,
          7,
          3,
          1,
          5,
          8,
          3,
          6,
          8,
          2,
          6,
          1,
          1,
          3,
          5,
          1,
          5,
          6,
          5,
          4,
          3,
          2,
          10,
          8,
          5,
          14,
          9,
          5,
          8,
          9,
          1,
          10,
          1,
          3,
          8,
          3,
          0,
          9,
          14,
          5,
          5
         ],
         "yaxis": "y3"
        },
        {
         "name": "inventario_est4",
         "type": "scatter",
         "x": [
          "2022-08-01T08:00:00",
          "2022-08-01T14:00:00",
          "2022-08-01T20:00:00",
          "2022-08-02T08:00:00",
          "2022-08-02T14:00:00",
          "2022-08-02T20:00:00",
          "2022-08-03T08:00:00",
          "2022-08-03T14:00:00",
          "2022-08-03T20:00:00",
          "2022-08-04T08:00:00",
          "2022-08-04T14:00:00",
          "2022-08-04T20:00:00",
          "2022-08-05T08:00:00",
          "2022-08-05T14:00:00",
          "2022-08-05T20:00:00",
          "2022-08-08T08:00:00",
          "2022-08-08T14:00:00",
          "2022-08-08T20:00:00",
          "2022-08-09T08:00:00",
          "2022-08-09T14:00:00",
          "2022-08-09T20:00:00",
          "2022-08-10T08:00:00",
          "2022-08-10T14:00:00",
          "2022-08-10T20:00:00",
          "2022-08-11T08:00:00",
          "2022-08-11T14:00:00",
          "2022-08-11T20:00:00",
          "2022-08-12T08:00:00",
          "2022-08-12T14:00:00",
          "2022-08-12T20:00:00",
          "2022-08-15T08:00:00",
          "2022-08-15T14:00:00",
          "2022-08-15T20:00:00",
          "2022-08-16T08:00:00",
          "2022-08-16T14:00:00",
          "2022-08-16T20:00:00",
          "2022-08-17T08:00:00",
          "2022-08-17T14:00:00",
          "2022-08-17T20:00:00",
          "2022-08-18T08:00:00",
          "2022-08-18T14:00:00",
          "2022-08-18T20:00:00",
          "2022-08-19T08:00:00",
          "2022-08-19T14:00:00",
          "2022-08-19T20:00:00",
          "2022-08-22T08:00:00",
          "2022-08-22T14:00:00",
          "2022-08-22T20:00:00",
          "2022-08-23T08:00:00",
          "2022-08-23T14:00:00",
          "2022-08-23T20:00:00",
          "2022-08-24T08:00:00",
          "2022-08-24T14:00:00",
          "2022-08-24T20:00:00",
          "2022-08-25T08:00:00",
          "2022-08-25T14:00:00",
          "2022-08-25T20:00:00",
          "2022-08-26T08:00:00",
          "2022-08-26T14:00:00",
          "2022-08-26T20:00:00"
         ],
         "xaxis": "x4",
         "y": [
          12,
          11,
          6,
          13,
          7,
          9,
          7,
          7,
          10,
          6,
          8,
          7,
          5,
          14,
          4,
          10,
          13,
          5,
          13,
          11,
          16,
          9,
          9,
          3,
          3,
          5,
          1,
          10,
          17,
          11,
          12,
          10,
          2,
          19,
          20,
          28,
          21,
          23,
          2,
          6,
          10,
          6,
          3,
          2,
          5,
          1,
          13,
          0,
          7,
          6,
          1,
          2,
          3,
          1,
          2,
          20,
          0,
          8,
          0,
          9
         ],
         "yaxis": "y4"
        }
       ],
       "layout": {
        "height": 600,
        "template": {
         "data": {
          "bar": [
           {
            "error_x": {
             "color": "#2a3f5f"
            },
            "error_y": {
             "color": "#2a3f5f"
            },
            "marker": {
             "line": {
              "color": "#E5ECF6",
              "width": 0.5
             },
             "pattern": {
              "fillmode": "overlay",
              "size": 10,
              "solidity": 0.2
             }
            },
            "type": "bar"
           }
          ],
          "barpolar": [
           {
            "marker": {
             "line": {
              "color": "#E5ECF6",
              "width": 0.5
             },
             "pattern": {
              "fillmode": "overlay",
              "size": 10,
              "solidity": 0.2
             }
            },
            "type": "barpolar"
           }
          ],
          "carpet": [
           {
            "aaxis": {
             "endlinecolor": "#2a3f5f",
             "gridcolor": "white",
             "linecolor": "white",
             "minorgridcolor": "white",
             "startlinecolor": "#2a3f5f"
            },
            "baxis": {
             "endlinecolor": "#2a3f5f",
             "gridcolor": "white",
             "linecolor": "white",
             "minorgridcolor": "white",
             "startlinecolor": "#2a3f5f"
            },
            "type": "carpet"
           }
          ],
          "choropleth": [
           {
            "colorbar": {
             "outlinewidth": 0,
             "ticks": ""
            },
            "type": "choropleth"
           }
          ],
          "contour": [
           {
            "colorbar": {
             "outlinewidth": 0,
             "ticks": ""
            },
            "colorscale": [
             [
              0,
              "#0d0887"
             ],
             [
              0.1111111111111111,
              "#46039f"
             ],
             [
              0.2222222222222222,
              "#7201a8"
             ],
             [
              0.3333333333333333,
              "#9c179e"
             ],
             [
              0.4444444444444444,
              "#bd3786"
             ],
             [
              0.5555555555555556,
              "#d8576b"
             ],
             [
              0.6666666666666666,
              "#ed7953"
             ],
             [
              0.7777777777777778,
              "#fb9f3a"
             ],
             [
              0.8888888888888888,
              "#fdca26"
             ],
             [
              1,
              "#f0f921"
             ]
            ],
            "type": "contour"
           }
          ],
          "contourcarpet": [
           {
            "colorbar": {
             "outlinewidth": 0,
             "ticks": ""
            },
            "type": "contourcarpet"
           }
          ],
          "heatmap": [
           {
            "colorbar": {
             "outlinewidth": 0,
             "ticks": ""
            },
            "colorscale": [
             [
              0,
              "#0d0887"
             ],
             [
              0.1111111111111111,
              "#46039f"
             ],
             [
              0.2222222222222222,
              "#7201a8"
             ],
             [
              0.3333333333333333,
              "#9c179e"
             ],
             [
              0.4444444444444444,
              "#bd3786"
             ],
             [
              0.5555555555555556,
              "#d8576b"
             ],
             [
              0.6666666666666666,
              "#ed7953"
             ],
             [
              0.7777777777777778,
              "#fb9f3a"
             ],
             [
              0.8888888888888888,
              "#fdca26"
             ],
             [
              1,
              "#f0f921"
             ]
            ],
            "type": "heatmap"
           }
          ],
          "heatmapgl": [
           {
            "colorbar": {
             "outlinewidth": 0,
             "ticks": ""
            },
            "colorscale": [
             [
              0,
              "#0d0887"
             ],
             [
              0.1111111111111111,
              "#46039f"
             ],
             [
              0.2222222222222222,
              "#7201a8"
             ],
             [
              0.3333333333333333,
              "#9c179e"
             ],
             [
              0.4444444444444444,
              "#bd3786"
             ],
             [
              0.5555555555555556,
              "#d8576b"
             ],
             [
              0.6666666666666666,
              "#ed7953"
             ],
             [
              0.7777777777777778,
              "#fb9f3a"
             ],
             [
              0.8888888888888888,
              "#fdca26"
             ],
             [
              1,
              "#f0f921"
             ]
            ],
            "type": "heatmapgl"
           }
          ],
          "histogram": [
           {
            "marker": {
             "pattern": {
              "fillmode": "overlay",
              "size": 10,
              "solidity": 0.2
             }
            },
            "type": "histogram"
           }
          ],
          "histogram2d": [
           {
            "colorbar": {
             "outlinewidth": 0,
             "ticks": ""
            },
            "colorscale": [
             [
              0,
              "#0d0887"
             ],
             [
              0.1111111111111111,
              "#46039f"
             ],
             [
              0.2222222222222222,
              "#7201a8"
             ],
             [
              0.3333333333333333,
              "#9c179e"
             ],
             [
              0.4444444444444444,
              "#bd3786"
             ],
             [
              0.5555555555555556,
              "#d8576b"
             ],
             [
              0.6666666666666666,
              "#ed7953"
             ],
             [
              0.7777777777777778,
              "#fb9f3a"
             ],
             [
              0.8888888888888888,
              "#fdca26"
             ],
             [
              1,
              "#f0f921"
             ]
            ],
            "type": "histogram2d"
           }
          ],
          "histogram2dcontour": [
           {
            "colorbar": {
             "outlinewidth": 0,
             "ticks": ""
            },
            "colorscale": [
             [
              0,
              "#0d0887"
             ],
             [
              0.1111111111111111,
              "#46039f"
             ],
             [
              0.2222222222222222,
              "#7201a8"
             ],
             [
              0.3333333333333333,
              "#9c179e"
             ],
             [
              0.4444444444444444,
              "#bd3786"
             ],
             [
              0.5555555555555556,
              "#d8576b"
             ],
             [
              0.6666666666666666,
              "#ed7953"
             ],
             [
              0.7777777777777778,
              "#fb9f3a"
             ],
             [
              0.8888888888888888,
              "#fdca26"
             ],
             [
              1,
              "#f0f921"
             ]
            ],
            "type": "histogram2dcontour"
           }
          ],
          "mesh3d": [
           {
            "colorbar": {
             "outlinewidth": 0,
             "ticks": ""
            },
            "type": "mesh3d"
           }
          ],
          "parcoords": [
           {
            "line": {
             "colorbar": {
              "outlinewidth": 0,
              "ticks": ""
             }
            },
            "type": "parcoords"
           }
          ],
          "pie": [
           {
            "automargin": true,
            "type": "pie"
           }
          ],
          "scatter": [
           {
            "fillpattern": {
             "fillmode": "overlay",
             "size": 10,
             "solidity": 0.2
            },
            "type": "scatter"
           }
          ],
          "scatter3d": [
           {
            "line": {
             "colorbar": {
              "outlinewidth": 0,
              "ticks": ""
             }
            },
            "marker": {
             "colorbar": {
              "outlinewidth": 0,
              "ticks": ""
             }
            },
            "type": "scatter3d"
           }
          ],
          "scattercarpet": [
           {
            "marker": {
             "colorbar": {
              "outlinewidth": 0,
              "ticks": ""
             }
            },
            "type": "scattercarpet"
           }
          ],
          "scattergeo": [
           {
            "marker": {
             "colorbar": {
              "outlinewidth": 0,
              "ticks": ""
             }
            },
            "type": "scattergeo"
           }
          ],
          "scattergl": [
           {
            "marker": {
             "colorbar": {
              "outlinewidth": 0,
              "ticks": ""
             }
            },
            "type": "scattergl"
           }
          ],
          "scattermapbox": [
           {
            "marker": {
             "colorbar": {
              "outlinewidth": 0,
              "ticks": ""
             }
            },
            "type": "scattermapbox"
           }
          ],
          "scatterpolar": [
           {
            "marker": {
             "colorbar": {
              "outlinewidth": 0,
              "ticks": ""
             }
            },
            "type": "scatterpolar"
           }
          ],
          "scatterpolargl": [
           {
            "marker": {
             "colorbar": {
              "outlinewidth": 0,
              "ticks": ""
             }
            },
            "type": "scatterpolargl"
           }
          ],
          "scatterternary": [
           {
            "marker": {
             "colorbar": {
              "outlinewidth": 0,
              "ticks": ""
             }
            },
            "type": "scatterternary"
           }
          ],
          "surface": [
           {
            "colorbar": {
             "outlinewidth": 0,
             "ticks": ""
            },
            "colorscale": [
             [
              0,
              "#0d0887"
             ],
             [
              0.1111111111111111,
              "#46039f"
             ],
             [
              0.2222222222222222,
              "#7201a8"
             ],
             [
              0.3333333333333333,
              "#9c179e"
             ],
             [
              0.4444444444444444,
              "#bd3786"
             ],
             [
              0.5555555555555556,
              "#d8576b"
             ],
             [
              0.6666666666666666,
              "#ed7953"
             ],
             [
              0.7777777777777778,
              "#fb9f3a"
             ],
             [
              0.8888888888888888,
              "#fdca26"
             ],
             [
              1,
              "#f0f921"
             ]
            ],
            "type": "surface"
           }
          ],
          "table": [
           {
            "cells": {
             "fill": {
              "color": "#EBF0F8"
             },
             "line": {
              "color": "white"
             }
            },
            "header": {
             "fill": {
              "color": "#C8D4E3"
             },
             "line": {
              "color": "white"
             }
            },
            "type": "table"
           }
          ]
         },
         "layout": {
          "annotationdefaults": {
           "arrowcolor": "#2a3f5f",
           "arrowhead": 0,
           "arrowwidth": 1
          },
          "autotypenumbers": "strict",
          "coloraxis": {
           "colorbar": {
            "outlinewidth": 0,
            "ticks": ""
           }
          },
          "colorscale": {
           "diverging": [
            [
             0,
             "#8e0152"
            ],
            [
             0.1,
             "#c51b7d"
            ],
            [
             0.2,
             "#de77ae"
            ],
            [
             0.3,
             "#f1b6da"
            ],
            [
             0.4,
             "#fde0ef"
            ],
            [
             0.5,
             "#f7f7f7"
            ],
            [
             0.6,
             "#e6f5d0"
            ],
            [
             0.7,
             "#b8e186"
            ],
            [
             0.8,
             "#7fbc41"
            ],
            [
             0.9,
             "#4d9221"
            ],
            [
             1,
             "#276419"
            ]
           ],
           "sequential": [
            [
             0,
             "#0d0887"
            ],
            [
             0.1111111111111111,
             "#46039f"
            ],
            [
             0.2222222222222222,
             "#7201a8"
            ],
            [
             0.3333333333333333,
             "#9c179e"
            ],
            [
             0.4444444444444444,
             "#bd3786"
            ],
            [
             0.5555555555555556,
             "#d8576b"
            ],
            [
             0.6666666666666666,
             "#ed7953"
            ],
            [
             0.7777777777777778,
             "#fb9f3a"
            ],
            [
             0.8888888888888888,
             "#fdca26"
            ],
            [
             1,
             "#f0f921"
            ]
           ],
           "sequentialminus": [
            [
             0,
             "#0d0887"
            ],
            [
             0.1111111111111111,
             "#46039f"
            ],
            [
             0.2222222222222222,
             "#7201a8"
            ],
            [
             0.3333333333333333,
             "#9c179e"
            ],
            [
             0.4444444444444444,
             "#bd3786"
            ],
            [
             0.5555555555555556,
             "#d8576b"
            ],
            [
             0.6666666666666666,
             "#ed7953"
            ],
            [
             0.7777777777777778,
             "#fb9f3a"
            ],
            [
             0.8888888888888888,
             "#fdca26"
            ],
            [
             1,
             "#f0f921"
            ]
           ]
          },
          "colorway": [
           "#636efa",
           "#EF553B",
           "#00cc96",
           "#ab63fa",
           "#FFA15A",
           "#19d3f3",
           "#FF6692",
           "#B6E880",
           "#FF97FF",
           "#FECB52"
          ],
          "font": {
           "color": "#2a3f5f"
          },
          "geo": {
           "bgcolor": "white",
           "lakecolor": "white",
           "landcolor": "#E5ECF6",
           "showlakes": true,
           "showland": true,
           "subunitcolor": "white"
          },
          "hoverlabel": {
           "align": "left"
          },
          "hovermode": "closest",
          "mapbox": {
           "style": "light"
          },
          "paper_bgcolor": "white",
          "plot_bgcolor": "#E5ECF6",
          "polar": {
           "angularaxis": {
            "gridcolor": "white",
            "linecolor": "white",
            "ticks": ""
           },
           "bgcolor": "#E5ECF6",
           "radialaxis": {
            "gridcolor": "white",
            "linecolor": "white",
            "ticks": ""
           }
          },
          "scene": {
           "xaxis": {
            "backgroundcolor": "#E5ECF6",
            "gridcolor": "white",
            "gridwidth": 2,
            "linecolor": "white",
            "showbackground": true,
            "ticks": "",
            "zerolinecolor": "white"
           },
           "yaxis": {
            "backgroundcolor": "#E5ECF6",
            "gridcolor": "white",
            "gridwidth": 2,
            "linecolor": "white",
            "showbackground": true,
            "ticks": "",
            "zerolinecolor": "white"
           },
           "zaxis": {
            "backgroundcolor": "#E5ECF6",
            "gridcolor": "white",
            "gridwidth": 2,
            "linecolor": "white",
            "showbackground": true,
            "ticks": "",
            "zerolinecolor": "white"
           }
          },
          "shapedefaults": {
           "line": {
            "color": "#2a3f5f"
           }
          },
          "ternary": {
           "aaxis": {
            "gridcolor": "white",
            "linecolor": "white",
            "ticks": ""
           },
           "baxis": {
            "gridcolor": "white",
            "linecolor": "white",
            "ticks": ""
           },
           "bgcolor": "#E5ECF6",
           "caxis": {
            "gridcolor": "white",
            "linecolor": "white",
            "ticks": ""
           }
          },
          "title": {
           "x": 0.05
          },
          "xaxis": {
           "automargin": true,
           "gridcolor": "white",
           "linecolor": "white",
           "ticks": "",
           "title": {
            "standoff": 15
           },
           "zerolinecolor": "white",
           "zerolinewidth": 2
          },
          "yaxis": {
           "automargin": true,
           "gridcolor": "white",
           "linecolor": "white",
           "ticks": "",
           "title": {
            "standoff": 15
           },
           "zerolinecolor": "white",
           "zerolinewidth": 2
          }
         }
        },
        "title": {
         "text": "Series de tiempo para inventario de estaciones de bicicletas"
        },
        "width": 800,
        "xaxis": {
         "anchor": "y",
         "autorange": true,
         "domain": [
          0,
          1
         ],
         "range": [
          "2022-08-01 08:00",
          "2022-08-26 20:00"
         ],
         "type": "date"
        },
        "xaxis2": {
         "anchor": "y2",
         "autorange": true,
         "domain": [
          0,
          1
         ],
         "range": [
          "2022-08-01 08:00",
          "2022-08-26 20:00"
         ],
         "type": "date"
        },
        "xaxis3": {
         "anchor": "y3",
         "autorange": true,
         "domain": [
          0,
          1
         ],
         "range": [
          "2022-08-01 08:00",
          "2022-08-26 20:00"
         ],
         "type": "date"
        },
        "xaxis4": {
         "anchor": "y4",
         "autorange": true,
         "domain": [
          0,
          1
         ],
         "range": [
          "2022-08-01 08:00",
          "2022-08-26 20:00"
         ],
         "type": "date"
        },
        "yaxis": {
         "anchor": "x",
         "autorange": true,
         "domain": [
          0.80625,
          1
         ],
         "range": [
          -0.8888888888888888,
          16.88888888888889
         ],
         "type": "linear"
        },
        "yaxis2": {
         "anchor": "x2",
         "autorange": true,
         "domain": [
          0.5375,
          0.73125
         ],
         "range": [
          1.5,
          11.5
         ],
         "type": "linear"
        },
        "yaxis3": {
         "anchor": "x3",
         "autorange": true,
         "domain": [
          0.26875,
          0.4625
         ],
         "range": [
          -0.7777777777777776,
          14.777777777777777
         ],
         "type": "linear"
        },
        "yaxis4": {
         "anchor": "x4",
         "autorange": true,
         "domain": [
          0,
          0.19375
         ],
         "range": [
          -1.5555555555555556,
          29.555555555555557
         ],
         "type": "linear"
        }
       }
      },
      "image/png": "[encoded data removed]",
      "text/html": [
       "<div>                            <div id=\"e9b59b9b-35fb-4374-810b-1f31d23625c2\" class=\"plotly-graph-div\" style=\"height:600px; width:800px;\"></div>            <script type=\"text/javascript\">                require([\"plotly\"], function(Plotly) {                    window.PLOTLYENV=window.PLOTLYENV || {};                                    if (document.getElementById(\"e9b59b9b-35fb-4374-810b-1f31d23625c2\")) {                    Plotly.newPlot(                        \"e9b59b9b-35fb-4374-810b-1f31d23625c2\",                        [{\"name\":\"inventario_est1\",\"x\":[\"2022-08-01T08:00:00\",\"2022-08-01T14:00:00\",\"2022-08-01T20:00:00\",\"2022-08-02T08:00:00\",\"2022-08-02T14:00:00\",\"2022-08-02T20:00:00\",\"2022-08-03T08:00:00\",\"2022-08-03T14:00:00\",\"2022-08-03T20:00:00\",\"2022-08-04T08:00:00\",\"2022-08-04T14:00:00\",\"2022-08-04T20:00:00\",\"2022-08-05T08:00:00\",\"2022-08-05T14:00:00\",\"2022-08-05T20:00:00\",\"2022-08-08T08:00:00\",\"2022-08-08T14:00:00\",\"2022-08-08T20:00:00\",\"2022-08-09T08:00:00\",\"2022-08-09T14:00:00\",\"2022-08-09T20:00:00\",\"2022-08-10T08:00:00\",\"2022-08-10T14:00:00\",\"2022-08-10T20:00:00\",\"2022-08-11T08:00:00\",\"2022-08-11T14:00:00\",\"2022-08-11T20:00:00\",\"2022-08-12T08:00:00\",\"2022-08-12T14:00:00\",\"2022-08-12T20:00:00\",\"2022-08-15T08:00:00\",\"2022-08-15T14:00:00\",\"2022-08-15T20:00:00\",\"2022-08-16T08:00:00\",\"2022-08-16T14:00:00\",\"2022-08-16T20:00:00\",\"2022-08-17T08:00:00\",\"2022-08-17T14:00:00\",\"2022-08-17T20:00:00\",\"2022-08-18T08:00:00\",\"2022-08-18T14:00:00\",\"2022-08-18T20:00:00\",\"2022-08-19T08:00:00\",\"2022-08-19T14:00:00\",\"2022-08-19T20:00:00\",\"2022-08-22T08:00:00\",\"2022-08-22T14:00:00\",\"2022-08-22T20:00:00\",\"2022-08-23T08:00:00\",\"2022-08-23T14:00:00\",\"2022-08-23T20:00:00\",\"2022-08-24T08:00:00\",\"2022-08-24T14:00:00\",\"2022-08-24T20:00:00\",\"2022-08-25T08:00:00\",\"2022-08-25T14:00:00\",\"2022-08-25T20:00:00\",\"2022-08-26T08:00:00\",\"2022-08-26T14:00:00\",\"2022-08-26T20:00:00\"],\"y\":[14,14,9,7,12,12,11,16,14,11,6,8,6,6,14,11,8,13,3,6,16,6,7,15,8,8,13,9,10,8,3,5,11,6,2,7,6,8,3,5,10,3,3,6,6,14,12,0,1,9,4,1,0,5,5,4,5,5,5,5],\"type\":\"scatter\",\"xaxis\":\"x\",\"yaxis\":\"y\"},{\"name\":\"inventario_est2\",\"x\":[\"2022-08-01T08:00:00\",\"2022-08-01T14:00:00\",\"2022-08-01T20:00:00\",\"2022-08-02T08:00:00\",\"2022-08-02T14:00:00\",\"2022-08-02T20:00:00\",\"2022-08-03T08:00:00\",\"2022-08-03T14:00:00\",\"2022-08-03T20:00:00\",\"2022-08-04T08:00:00\",\"2022-08-04T14:00:00\",\"2022-08-04T20:00:00\",\"2022-08-05T08:00:00\",\"2022-08-05T14:00:00\",\"2022-08-05T20:00:00\",\"2022-08-08T08:00:00\",\"2022-08-08T14:00:00\",\"2022-08-08T20:00:00\",\"2022-08-09T08:00:00\",\"2022-08-09T14:00:00\",\"2022-08-09T20:00:00\",\"2022-08-10T08:00:00\",\"2022-08-10T14:00:00\",\"2022-08-10T20:00:00\",\"2022-08-11T08:00:00\",\"2022-08-11T14:00:00\",\"2022-08-11T20:00:00\",\"2022-08-12T08:00:00\",\"2022-08-12T14:00:00\",\"2022-08-12T20:00:00\",\"2022-08-15T08:00:00\",\"2022-08-15T14:00:00\",\"2022-08-15T20:00:00\",\"2022-08-16T08:00:00\",\"2022-08-16T14:00:00\",\"2022-08-16T20:00:00\",\"2022-08-17T08:00:00\",\"2022-08-17T14:00:00\",\"2022-08-17T20:00:00\",\"2022-08-18T08:00:00\",\"2022-08-18T14:00:00\",\"2022-08-18T20:00:00\",\"2022-08-19T08:00:00\",\"2022-08-19T14:00:00\",\"2022-08-19T20:00:00\",\"2022-08-22T08:00:00\",\"2022-08-22T14:00:00\",\"2022-08-22T20:00:00\",\"2022-08-23T08:00:00\",\"2022-08-23T14:00:00\",\"2022-08-23T20:00:00\",\"2022-08-24T08:00:00\",\"2022-08-24T14:00:00\",\"2022-08-24T20:00:00\",\"2022-08-25T08:00:00\",\"2022-08-25T14:00:00\",\"2022-08-25T20:00:00\",\"2022-08-26T08:00:00\",\"2022-08-26T14:00:00\",\"2022-08-26T20:00:00\"],\"y\":[8,11,7,9,3,11,8,4,6,5,4,9,4,10,4,9,5,6,11,10,2,2,7,6,7,8,7,4,8,5,3,5,3,4,7,7,5,6,3,11,10,10,6,10,8,4,11,11,6,7,7,4,8,6,8,10,4,4,9,2],\"type\":\"scatter\",\"xaxis\":\"x2\",\"yaxis\":\"y2\"},{\"name\":\"inventario_est3\",\"x\":[\"2022-08-01T08:00:00\",\"2022-08-01T14:00:00\",\"2022-08-01T20:00:00\",\"2022-08-02T08:00:00\",\"2022-08-02T14:00:00\",\"2022-08-02T20:00:00\",\"2022-08-03T08:00:00\",\"2022-08-03T14:00:00\",\"2022-08-03T20:00:00\",\"2022-08-04T08:00:00\",\"2022-08-04T14:00:00\",\"2022-08-04T20:00:00\",\"2022-08-05T08:00:00\",\"2022-08-05T14:00:00\",\"2022-08-05T20:00:00\",\"2022-08-08T08:00:00\",\"2022-08-08T14:00:00\",\"2022-08-08T20:00:00\",\"2022-08-09T08:00:00\",\"2022-08-09T14:00:00\",\"2022-08-09T20:00:00\",\"2022-08-10T08:00:00\",\"2022-08-10T14:00:00\",\"2022-08-10T20:00:00\",\"2022-08-11T08:00:00\",\"2022-08-11T14:00:00\",\"2022-08-11T20:00:00\",\"2022-08-12T08:00:00\",\"2022-08-12T14:00:00\",\"2022-08-12T20:00:00\",\"2022-08-15T08:00:00\",\"2022-08-15T14:00:00\",\"2022-08-15T20:00:00\",\"2022-08-16T08:00:00\",\"2022-08-16T14:00:00\",\"2022-08-16T20:00:00\",\"2022-08-17T08:00:00\",\"2022-08-17T14:00:00\",\"2022-08-17T20:00:00\",\"2022-08-18T08:00:00\",\"2022-08-18T14:00:00\",\"2022-08-18T20:00:00\",\"2022-08-19T08:00:00\",\"2022-08-19T14:00:00\",\"2022-08-19T20:00:00\",\"2022-08-22T08:00:00\",\"2022-08-22T14:00:00\",\"2022-08-22T20:00:00\",\"2022-08-23T08:00:00\",\"2022-08-23T14:00:00\",\"2022-08-23T20:00:00\",\"2022-08-24T08:00:00\",\"2022-08-24T14:00:00\",\"2022-08-24T20:00:00\",\"2022-08-25T08:00:00\",\"2022-08-25T14:00:00\",\"2022-08-25T20:00:00\",\"2022-08-26T08:00:00\",\"2022-08-26T14:00:00\",\"2022-08-26T20:00:00\"],\"y\":[5,1,9,9,0,9,9,1,11,10,0,12,7,0,6,5,2,4,6,2,7,3,1,5,8,3,6,8,2,6,1,1,3,5,1,5,6,5,4,3,2,10,8,5,14,9,5,8,9,1,10,1,3,8,3,0,9,14,5,5],\"type\":\"scatter\",\"xaxis\":\"x3\",\"yaxis\":\"y3\"},{\"name\":\"inventario_est4\",\"x\":[\"2022-08-01T08:00:00\",\"2022-08-01T14:00:00\",\"2022-08-01T20:00:00\",\"2022-08-02T08:00:00\",\"2022-08-02T14:00:00\",\"2022-08-02T20:00:00\",\"2022-08-03T08:00:00\",\"2022-08-03T14:00:00\",\"2022-08-03T20:00:00\",\"2022-08-04T08:00:00\",\"2022-08-04T14:00:00\",\"2022-08-04T20:00:00\",\"2022-08-05T08:00:00\",\"2022-08-05T14:00:00\",\"2022-08-05T20:00:00\",\"2022-08-08T08:00:00\",\"2022-08-08T14:00:00\",\"2022-08-08T20:00:00\",\"2022-08-09T08:00:00\",\"2022-08-09T14:00:00\",\"2022-08-09T20:00:00\",\"2022-08-10T08:00:00\",\"2022-08-10T14:00:00\",\"2022-08-10T20:00:00\",\"2022-08-11T08:00:00\",\"2022-08-11T14:00:00\",\"2022-08-11T20:00:00\",\"2022-08-12T08:00:00\",\"2022-08-12T14:00:00\",\"2022-08-12T20:00:00\",\"2022-08-15T08:00:00\",\"2022-08-15T14:00:00\",\"2022-08-15T20:00:00\",\"2022-08-16T08:00:00\",\"2022-08-16T14:00:00\",\"2022-08-16T20:00:00\",\"2022-08-17T08:00:00\",\"2022-08-17T14:00:00\",\"2022-08-17T20:00:00\",\"2022-08-18T08:00:00\",\"2022-08-18T14:00:00\",\"2022-08-18T20:00:00\",\"2022-08-19T08:00:00\",\"2022-08-19T14:00:00\",\"2022-08-19T20:00:00\",\"2022-08-22T08:00:00\",\"2022-08-22T14:00:00\",\"2022-08-22T20:00:00\",\"2022-08-23T08:00:00\",\"2022-08-23T14:00:00\",\"2022-08-23T20:00:00\",\"2022-08-24T08:00:00\",\"2022-08-24T14:00:00\",\"2022-08-24T20:00:00\",\"2022-08-25T08:00:00\",\"2022-08-25T14:00:00\",\"2022-08-25T20:00:00\",\"2022-08-26T08:00:00\",\"2022-08-26T14:00:00\",\"2022-08-26T20:00:00\"],\"y\":[12,11,6,13,7,9,7,7,10,6,8,7,5,14,4,10,13,5,13,11,16,9,9,3,3,5,1,10,17,11,12,10,2,19,20,28,21,23,2,6,10,6,3,2,5,1,13,0,7,6,1,2,3,1,2,20,0,8,0,9],\"type\":\"scatter\",\"xaxis\":\"x4\",\"yaxis\":\"y4\"}],                        {\"template\":{\"data\":{\"histogram2dcontour\":[{\"type\":\"histogram2dcontour\",\"colorbar\":{\"outlinewidth\":0,\"ticks\":\"\"},\"colorscale\":[[0.0,\"#0d0887\"],[0.1111111111111111,\"#46039f\"],[0.2222222222222222,\"#7201a8\"],[0.3333333333333333,\"#9c179e\"],[0.4444444444444444,\"#bd3786\"],[0.5555555555555556,\"#d8576b\"],[0.6666666666666666,\"#ed7953\"],[0.7777777777777778,\"#fb9f3a\"],[0.8888888888888888,\"#fdca26\"],[1.0,\"#f0f921\"]]}],\"choropleth\":[{\"type\":\"choropleth\",\"colorbar\":{\"outlinewidth\":0,\"ticks\":\"\"}}],\"histogram2d\":[{\"type\":\"histogram2d\",\"colorbar\":{\"outlinewidth\":0,\"ticks\":\"\"},\"colorscale\":[[0.0,\"#0d0887\"],[0.1111111111111111,\"#46039f\"],[0.2222222222222222,\"#7201a8\"],[0.3333333333333333,\"#9c179e\"],[0.4444444444444444,\"#bd3786\"],[0.5555555555555556,\"#d8576b\"],[0.6666666666666666,\"#ed7953\"],[0.7777777777777778,\"#fb9f3a\"],[0.8888888888888888,\"#fdca26\"],[1.0,\"#f0f921\"]]}],\"heatmap\":[{\"type\":\"heatmap\",\"colorbar\":{\"outlinewidth\":0,\"ticks\":\"\"},\"colorscale\":[[0.0,\"#0d0887\"],[0.1111111111111111,\"#46039f\"],[0.2222222222222222,\"#7201a8\"],[0.3333333333333333,\"#9c179e\"],[0.4444444444444444,\"#bd3786\"],[0.5555555555555556,\"#d8576b\"],[0.6666666666666666,\"#ed7953\"],[0.7777777777777778,\"#fb9f3a\"],[0.8888888888888888,\"#fdca26\"],[1.0,\"#f0f921\"]]}],\"heatmapgl\":[{\"type\":\"heatmapgl\",\"colorbar\":{\"outlinewidth\":0,\"ticks\":\"\"},\"colorscale\":[[0.0,\"#0d0887\"],[0.1111111111111111,\"#46039f\"],[0.2222222222222222,\"#7201a8\"],[0.3333333333333333,\"#9c179e\"],[0.4444444444444444,\"#bd3786\"],[0.5555555555555556,\"#d8576b\"],[0.6666666666666666,\"#ed7953\"],[0.7777777777777778,\"#fb9f3a\"],[0.8888888888888888,\"#fdca26\"],[1.0,\"#f0f921\"]]}],\"contourcarpet\":[{\"type\":\"contourcarpet\",\"colorbar\":{\"outlinewidth\":0,\"ticks\":\"\"}}],\"contour\":[{\"type\":\"contour\",\"colorbar\":{\"outlinewidth\":0,\"ticks\":\"\"},\"colorscale\":[[0.0,\"#0d0887\"],[0.1111111111111111,\"#46039f\"],[0.2222222222222222,\"#7201a8\"],[0.3333333333333333,\"#9c179e\"],[0.4444444444444444,\"#bd3786\"],[0.5555555555555556,\"#d8576b\"],[0.6666666666666666,\"#ed7953\"],[0.7777777777777778,\"#fb9f3a\"],[0.8888888888888888,\"#fdca26\"],[1.0,\"#f0f921\"]]}],\"surface\":[{\"type\":\"surface\",\"colorbar\":{\"outlinewidth\":0,\"ticks\":\"\"},\"colorscale\":[[0.0,\"#0d0887\"],[0.1111111111111111,\"#46039f\"],[0.2222222222222222,\"#7201a8\"],[0.3333333333333333,\"#9c179e\"],[0.4444444444444444,\"#bd3786\"],[0.5555555555555556,\"#d8576b\"],[0.6666666666666666,\"#ed7953\"],[0.7777777777777778,\"#fb9f3a\"],[0.8888888888888888,\"#fdca26\"],[1.0,\"#f0f921\"]]}],\"mesh3d\":[{\"type\":\"mesh3d\",\"colorbar\":{\"outlinewidth\":0,\"ticks\":\"\"}}],\"scatter\":[{\"fillpattern\":{\"fillmode\":\"overlay\",\"size\":10,\"solidity\":0.2},\"type\":\"scatter\"}],\"parcoords\":[{\"type\":\"parcoords\",\"line\":{\"colorbar\":{\"outlinewidth\":0,\"ticks\":\"\"}}}],\"scatterpolargl\":[{\"type\":\"scatterpolargl\",\"marker\":{\"colorbar\":{\"outlinewidth\":0,\"ticks\":\"\"}}}],\"bar\":[{\"error_x\":{\"color\":\"#2a3f5f\"},\"error_y\":{\"color\":\"#2a3f5f\"},\"marker\":{\"line\":{\"color\":\"#E5ECF6\",\"width\":0.5},\"pattern\":{\"fillmode\":\"overlay\",\"size\":10,\"solidity\":0.2}},\"type\":\"bar\"}],\"scattergeo\":[{\"type\":\"scattergeo\",\"marker\":{\"colorbar\":{\"outlinewidth\":0,\"ticks\":\"\"}}}],\"scatterpolar\":[{\"type\":\"scatterpolar\",\"marker\":{\"colorbar\":{\"outlinewidth\":0,\"ticks\":\"\"}}}],\"histogram\":[{\"marker\":{\"pattern\":{\"fillmode\":\"overlay\",\"size\":10,\"solidity\":0.2}},\"type\":\"histogram\"}],\"scattergl\":[{\"type\":\"scattergl\",\"marker\":{\"colorbar\":{\"outlinewidth\":0,\"ticks\":\"\"}}}],\"scatter3d\":[{\"type\":\"scatter3d\",\"line\":{\"colorbar\":{\"outlinewidth\":0,\"ticks\":\"\"}},\"marker\":{\"colorbar\":{\"outlinewidth\":0,\"ticks\":\"\"}}}],\"scattermapbox\":[{\"type\":\"scattermapbox\",\"marker\":{\"colorbar\":{\"outlinewidth\":0,\"ticks\":\"\"}}}],\"scatterternary\":[{\"type\":\"scatterternary\",\"marker\":{\"colorbar\":{\"outlinewidth\":0,\"ticks\":\"\"}}}],\"scattercarpet\":[{\"type\":\"scattercarpet\",\"marker\":{\"colorbar\":{\"outlinewidth\":0,\"ticks\":\"\"}}}],\"carpet\":[{\"aaxis\":{\"endlinecolor\":\"#2a3f5f\",\"gridcolor\":\"white\",\"linecolor\":\"white\",\"minorgridcolor\":\"white\",\"startlinecolor\":\"#2a3f5f\"},\"baxis\":{\"endlinecolor\":\"#2a3f5f\",\"gridcolor\":\"white\",\"linecolor\":\"white\",\"minorgridcolor\":\"white\",\"startlinecolor\":\"#2a3f5f\"},\"type\":\"carpet\"}],\"table\":[{\"cells\":{\"fill\":{\"color\":\"#EBF0F8\"},\"line\":{\"color\":\"white\"}},\"header\":{\"fill\":{\"color\":\"#C8D4E3\"},\"line\":{\"color\":\"white\"}},\"type\":\"table\"}],\"barpolar\":[{\"marker\":{\"line\":{\"color\":\"#E5ECF6\",\"width\":0.5},\"pattern\":{\"fillmode\":\"overlay\",\"size\":10,\"solidity\":0.2}},\"type\":\"barpolar\"}],\"pie\":[{\"automargin\":true,\"type\":\"pie\"}]},\"layout\":{\"autotypenumbers\":\"strict\",\"colorway\":[\"#636efa\",\"#EF553B\",\"#00cc96\",\"#ab63fa\",\"#FFA15A\",\"#19d3f3\",\"#FF6692\",\"#B6E880\",\"#FF97FF\",\"#FECB52\"],\"font\":{\"color\":\"#2a3f5f\"},\"hovermode\":\"closest\",\"hoverlabel\":{\"align\":\"left\"},\"paper_bgcolor\":\"white\",\"plot_bgcolor\":\"#E5ECF6\",\"polar\":{\"bgcolor\":\"#E5ECF6\",\"angularaxis\":{\"gridcolor\":\"white\",\"linecolor\":\"white\",\"ticks\":\"\"},\"radialaxis\":{\"gridcolor\":\"white\",\"linecolor\":\"white\",\"ticks\":\"\"}},\"ternary\":{\"bgcolor\":\"#E5ECF6\",\"aaxis\":{\"gridcolor\":\"white\",\"linecolor\":\"white\",\"ticks\":\"\"},\"baxis\":{\"gridcolor\":\"white\",\"linecolor\":\"white\",\"ticks\":\"\"},\"caxis\":{\"gridcolor\":\"white\",\"linecolor\":\"white\",\"ticks\":\"\"}},\"coloraxis\":{\"colorbar\":{\"outlinewidth\":0,\"ticks\":\"\"}},\"colorscale\":{\"sequential\":[[0.0,\"#0d0887\"],[0.1111111111111111,\"#46039f\"],[0.2222222222222222,\"#7201a8\"],[0.3333333333333333,\"#9c179e\"],[0.4444444444444444,\"#bd3786\"],[0.5555555555555556,\"#d8576b\"],[0.6666666666666666,\"#ed7953\"],[0.7777777777777778,\"#fb9f3a\"],[0.8888888888888888,\"#fdca26\"],[1.0,\"#f0f921\"]],\"sequentialminus\":[[0.0,\"#0d0887\"],[0.1111111111111111,\"#46039f\"],[0.2222222222222222,\"#7201a8\"],[0.3333333333333333,\"#9c179e\"],[0.4444444444444444,\"#bd3786\"],[0.5555555555555556,\"#d8576b\"],[0.6666666666666666,\"#ed7953\"],[0.7777777777777778,\"#fb9f3a\"],[0.8888888888888888,\"#fdca26\"],[1.0,\"#f0f921\"]],\"diverging\":[[0,\"#8e0152\"],[0.1,\"#c51b7d\"],[0.2,\"#de77ae\"],[0.3,\"#f1b6da\"],[0.4,\"#fde0ef\"],[0.5,\"#f7f7f7\"],[0.6,\"#e6f5d0\"],[0.7,\"#b8e186\"],[0.8,\"#7fbc41\"],[0.9,\"#4d9221\"],[1,\"#276419\"]]},\"xaxis\":{\"gridcolor\":\"white\",\"linecolor\":\"white\",\"ticks\":\"\",\"title\":{\"standoff\":15},\"zerolinecolor\":\"white\",\"automargin\":true,\"zerolinewidth\":2},\"yaxis\":{\"gridcolor\":\"white\",\"linecolor\":\"white\",\"ticks\":\"\",\"title\":{\"standoff\":15},\"zerolinecolor\":\"white\",\"automargin\":true,\"zerolinewidth\":2},\"scene\":{\"xaxis\":{\"backgroundcolor\":\"#E5ECF6\",\"gridcolor\":\"white\",\"linecolor\":\"white\",\"showbackground\":true,\"ticks\":\"\",\"zerolinecolor\":\"white\",\"gridwidth\":2},\"yaxis\":{\"backgroundcolor\":\"#E5ECF6\",\"gridcolor\":\"white\",\"linecolor\":\"white\",\"showbackground\":true,\"ticks\":\"\",\"zerolinecolor\":\"white\",\"gridwidth\":2},\"zaxis\":{\"backgroundcolor\":\"#E5ECF6\",\"gridcolor\":\"white\",\"linecolor\":\"white\",\"showbackground\":true,\"ticks\":\"\",\"zerolinecolor\":\"white\",\"gridwidth\":2}},\"shapedefaults\":{\"line\":{\"color\":\"#2a3f5f\"}},\"annotationdefaults\":{\"arrowcolor\":\"#2a3f5f\",\"arrowhead\":0,\"arrowwidth\":1},\"geo\":{\"bgcolor\":\"white\",\"landcolor\":\"#E5ECF6\",\"subunitcolor\":\"white\",\"showland\":true,\"showlakes\":true,\"lakecolor\":\"white\"},\"title\":{\"x\":0.05},\"mapbox\":{\"style\":\"light\"}}},\"xaxis\":{\"anchor\":\"y\",\"domain\":[0.0,1.0]},\"yaxis\":{\"anchor\":\"x\",\"domain\":[0.80625,1.0]},\"xaxis2\":{\"anchor\":\"y2\",\"domain\":[0.0,1.0]},\"yaxis2\":{\"anchor\":\"x2\",\"domain\":[0.5375,0.73125]},\"xaxis3\":{\"anchor\":\"y3\",\"domain\":[0.0,1.0]},\"yaxis3\":{\"anchor\":\"x3\",\"domain\":[0.26875,0.4625]},\"xaxis4\":{\"anchor\":\"y4\",\"domain\":[0.0,1.0]},\"yaxis4\":{\"anchor\":\"x4\",\"domain\":[0.0,0.19375]},\"title\":{\"text\":\"Series de tiempo para inventario de estaciones de bicicletas\"},\"height\":600,\"width\":800},                        {\"responsive\": true}                    ).then(function(){\n",
       "                            \n",
       "var gd = document.getElementById('e9b59b9b-35fb-4374-810b-1f31d23625c2');\n",
       "var x = new MutationObserver(function (mutations, observer) {{\n",
       "        var display = window.getComputedStyle(gd).display;\n",
       "        if (!display || display === 'none') {{\n",
       "            console.log([gd, 'removed!']);\n",
       "            Plotly.purge(gd);\n",
       "            observer.disconnect();\n",
       "        }}\n",
       "}});\n",
       "\n",
       "// Listen for the removal of the full notebook cells\n",
       "var notebookContainer = gd.closest('#notebook-container');\n",
       "if (notebookContainer) {{\n",
       "    x.observe(notebookContainer, {childList: true});\n",
       "}}\n",
       "\n",
       "// Listen for the clearing of the current output cell\n",
       "var outputEl = gd.closest('.output');\n",
       "if (outputEl) {{\n",
       "    x.observe(outputEl, {childList: true});\n",
       "}}\n",
       "\n",
       "                        })                };                });            </script>        </div>"
      ]
     },
     "metadata": {},
     "output_type": "display_data"
    }
   ],
   "source": [
    "import pandas as pd\n",
    "import matplotlib.pyplot as plt\n",
    "\n",
    "df = pd.read_excel('data_mensual_bike.xlsx', sheet_name='Sheet1',usecols=\"B:AM\")\n",
    "df\n",
    "\n",
    "from plotly.subplots import make_subplots\n",
    "import plotly.graph_objects as go\n",
    "\n",
    "fig = make_subplots(rows=4, cols=1)\n",
    "fig.add_trace(\n",
    "    go.Scatter(x=df['dias'], y=df['inventario_est1'],name='inventario_est1'),\n",
    "    row=1, col=1\n",
    ")\n",
    "fig.add_trace(\n",
    "go.Scatter(x=df['dias'], y=df['inventario_est2'],name='inventario_est2'),\n",
    "    row=2, col=1\n",
    ")\n",
    "fig.add_trace(\n",
    "go.Scatter(x=df['dias'], y=df['inventario_est3'],name='inventario_est3'),\n",
    "    row=3, col=1\n",
    ")\n",
    "fig.add_trace(\n",
    "go.Scatter(x=df['dias'], y=df['inventario_est4'],name='inventario_est4'),\n",
    "    row=4, col=1\n",
    ")\n",
    "fig.update_layout(height=600, width=800, title_text=\"Series de tiempo para inventario de estaciones de bicicletas\")\n",
    "fig.show()"
   ]
  }
 ],
 "metadata": {
  "kernelspec": {
   "display_name": "Python 3 (ipykernel)",
   "language": "python",
   "name": "python3"
  },
  "language_info": {
   "codemirror_mode": {
    "name": "ipython",
    "version": 3
   },
   "file_extension": ".py",
   "mimetype": "text/x-python",
   "name": "python",
   "nbconvert_exporter": "python",
   "pygments_lexer": "ipython3",
   "version": "3.10.7"
  }
 },
 "nbformat": 4,
 "nbformat_minor": 5
}
